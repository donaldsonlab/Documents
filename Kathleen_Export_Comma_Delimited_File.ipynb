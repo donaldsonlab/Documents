{
 "cells": [
  {
   "cell_type": "code",
   "execution_count": 23,
   "metadata": {},
   "outputs": [],
   "source": [
    "import csv\n",
    "with open('1mWvole22992019-07-18T14_40_25.txt') as f:\n",
    "    out = [row.replace(' ', ',') for row in f]\n",
    "    reader = csv.reader(out, delimiter=',', quoting=csv.QUOTE_NONE)\n",
    "with open('1mWvole22992019-07-18T14_40_25.csv', 'w+') as saved:\n",
    "    writer = csv.writer(saved)\n",
    "    writer.writerows(reader)\n",
    "#f.close()\n",
    "saved.close()"
   ]
  },
  {
   "cell_type": "code",
   "execution_count": null,
   "metadata": {},
   "outputs": [],
   "source": []
  }
 ],
 "metadata": {
  "kernelspec": {
   "display_name": "Python 3",
   "language": "python",
   "name": "python3"
  },
  "language_info": {
   "codemirror_mode": {
    "name": "ipython",
    "version": 3
   },
   "file_extension": ".py",
   "mimetype": "text/x-python",
   "name": "python",
   "nbconvert_exporter": "python",
   "pygments_lexer": "ipython3",
   "version": "3.7.2"
  }
 },
 "nbformat": 4,
 "nbformat_minor": 2
}
