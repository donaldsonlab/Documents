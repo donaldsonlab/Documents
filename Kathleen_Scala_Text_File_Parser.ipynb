{
 "cells": [
  {
   "cell_type": "code",
   "execution_count": 42,
   "metadata": {},
   "outputs": [
    {
     "name": "stdout",
     "output_type": "stream",
     "text": [
      "1478659876533\n",
      "Three\n",
      "New row: ['1478659876577', '432156', '67']\n",
      "Three\n",
      "New row: ['1478659876825', '345678', '89']\n",
      "Three\n",
      "New row: ['1478659876999', '22', '3344']\n",
      "Two\n",
      "New row: ['1478659876512', '353563', '73823', '']\n",
      "Two\n",
      "New row: ['1478659876530', '3722', '37372']\n",
      "Three\n",
      "New row: ['1478659876987', '379273', '37273']\n",
      "One\n",
      "New row: ['1478659876535', '37373', '33636']\n"
     ]
    }
   ],
   "source": [
    "# Imports\n",
    "import csv\n",
    "\n",
    "# Variables\n",
    "time_prefix = 0\n",
    "\n",
    "# Open the \"text\"/desired file \n",
    "with open('1mWvole22992019-07-18T14_40_25.txt') as f:\n",
    "    \n",
    "    # Turn data into comma delimeted data\n",
    "    out = [row.replace(' ', ',') for row in f]\n",
    "    \n",
    "    # Pipe new data into a reader\n",
    "    reader = csv.reader(out, delimiter=',', quoting=csv.QUOTE_NONE)\n",
    "    \n",
    "    # Grabs the first item in the first row of the \"text\" file and stores it as the time prefix\n",
    "    time_prefix = next(reader)[0]\n",
    "    \n",
    "    # Open write file \n",
    "    out_file = open('NEW_1mWvole22992019-07-18T14_40_25.csv', 'w+')\n",
    "    \n",
    "    # Create a writer object\n",
    "    writer = csv.writer(out_file)\n",
    "    \n",
    "    \n",
    "    #~~~~Manipulate the Data~~~~\n",
    "    \n",
    "    # Loop to look at the first value in each row in the reader object\n",
    "    for row in reader:\n",
    "        \n",
    "        # Single digit\n",
    "        if len(row[0]) == 1:\n",
    "            row[0] = time_prefix[:-1] + row[0]\n",
    "            \n",
    "        # Double digit\n",
    "        if len(row[0]) == 2:\n",
    "            row[0] = time_prefix[:-2] + row[0]\n",
    "            \n",
    "        # Triple digit\n",
    "        if len(row[0]) == 3:\n",
    "            row[0] = time_prefix[:-3] + row[0]\n",
    "            \n",
    "        # Write manipulated row to output file \n",
    "        writer.writerows([row])\n",
    "        \n",
    "    #~~~~End Manipulation of Data~~~~\n",
    "\n",
    "# Close files\n",
    "f.close()\n",
    "saved.close()"
   ]
  },
  {
   "cell_type": "code",
   "execution_count": null,
   "metadata": {},
   "outputs": [],
   "source": []
  }
 ],
 "metadata": {
  "kernelspec": {
   "display_name": "Python 3",
   "language": "python",
   "name": "python3"
  },
  "language_info": {
   "codemirror_mode": {
    "name": "ipython",
    "version": 3
   },
   "file_extension": ".py",
   "mimetype": "text/x-python",
   "name": "python",
   "nbconvert_exporter": "python",
   "pygments_lexer": "ipython3",
   "version": "3.7.2"
  }
 },
 "nbformat": 4,
 "nbformat_minor": 2
}
