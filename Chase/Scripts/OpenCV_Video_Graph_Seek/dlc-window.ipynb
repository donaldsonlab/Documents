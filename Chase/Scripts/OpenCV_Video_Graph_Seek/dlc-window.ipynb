{
 "cells": [
  {
   "cell_type": "code",
   "execution_count": 1,
   "metadata": {},
   "outputs": [],
   "source": [
    "import csv\n",
    "import math\n",
    "import os\n",
    "import pandas as pd\n",
    "import cv2\n",
    "import numpy as np\n",
    "from tkinter import *"
   ]
  },
  {
   "cell_type": "code",
   "execution_count": 2,
   "metadata": {},
   "outputs": [],
   "source": [
    "# Check made for correct file extemsion \n",
    "def checkExtension(extension, fileName):\n",
    "    root, ext = os.path.splitext(fileName)\n",
    "    if ext != extension:\n",
    "        # Not passed a file with the correct extension\n",
    "        print('Not a suitable .csv file. The file recieved was: %s' % fileName)\n",
    "        return False\n",
    "    #File has correct extension\n",
    "    return True"
   ]
  },
  {
   "cell_type": "code",
   "execution_count": 3,
   "metadata": {},
   "outputs": [],
   "source": [
    "# Preform the calculations\n",
    "def calculateMetrics(threshold, csvFile):\n",
    "    # import csv file using pandas\n",
    "    df = pd.read_csv(csvFile, skiprows= 1)\n",
    "    r, c = df.shape\n",
    "    magnitude_list = []\n",
    "    time_list = []\n",
    "\n",
    "    # Traverse the data frame and preform calculations on the data. \n",
    "    for ind in range(1, r-1):\n",
    "        # Checks if likelihood is higher than the set threshold\n",
    "        if float(df.at[ind + 1, 'Vole1_RightEye.2']) < threshold or float(df.at[ind, 'Vole1_RightEye.2']) < threshold:\n",
    "            # Point was not above likeliness threshold, leave blank \n",
    "            magnitude_list.append(None)\n",
    "        else:\n",
    "            # Both points are above the likeliness threshold \n",
    "            # Vector distance Vole 1\n",
    "            magnitude_vector_vole1 = math.sqrt(math.pow(float(df.at[ind + 1, 'Vole1_RightEye']) - float(df.at[ind, 'Vole1_RightEye']),2) \n",
    "                                    + math.pow(float(df.at[ind + 1, 'Vole1_RightEye.1']) - float(df.at[ind, 'Vole1_RightEye.1']),2))\n",
    "            # Vector distance Vole 2\n",
    "            magnitude_vector_vole2 = math.sqrt(math.pow(float(df.at[ind + 1, 'Vole2_RightEye']) - float(df.at[ind, 'Vole2_RightEye']),2) \n",
    "                                    + math.pow(float(df.at[ind + 1, 'Vole2_RightEye.1']) - float(df.at[ind, 'Vole2_RightEye.1']),2))\n",
    "\n",
    "            # Change in vector magnitude\n",
    "            magnitude_vector = magnitude_vector_vole1 - magnitude_vector_vole2\n",
    "\n",
    "            # Append to calculations list\n",
    "            magnitude_list.append(magnitude_vector)\n",
    "\n",
    "        # Append timestamps\n",
    "        time_list.append(ind)\n",
    "\n",
    "    return magnitude_list"
   ]
  },
  {
   "cell_type": "code",
   "execution_count": 4,
   "metadata": {},
   "outputs": [],
   "source": [
    "def confirmBehavior():\n",
    "    # New window\n",
    "    popup = Tk() \n",
    "    # Set passed title and change to all caps\n",
    "    popup.wm_title(\"Behavior Check\")\n",
    "    # Set default window geometry to 500 x 100\n",
    "    popup.geometry(\"400x200\") \n",
    "    # Set text for label to passed message\n",
    "    label = Label(popup, text=\"Was mating behavior displayed?\", font=(\"Open Sans\", 12))\n",
    "    # Place on window\n",
    "    label.pack(side=\"top\", fill=\"x\", pady=10)\n",
    "    # Create button to close window\n",
    "    B1 = Button(popup, text=\"Yes\")\n",
    "    # Pack on window too\n",
    "    B1.pack()\n",
    "    # Create button to close window\n",
    "    B2 = Button(popup, text=\"No\")\n",
    "    # Pack on window too\n",
    "    B2.pack()\n",
    "    # Wait the code until popup window is destroyed\n",
    "    mainloop()"
   ]
  },
  {
   "cell_type": "code",
   "execution_count": 5,
   "metadata": {},
   "outputs": [],
   "source": [
    "def windowedPreview(threshold, movementList, video):\n",
    "    for i, item in enumerate(movementList):\n",
    "        if item == None:\n",
    "            pass\n",
    "        elif item <= threshold and item >= -threshold:\n",
    "            video.set(1, i-1)\n",
    "            #print(\"%s\\n\" % item)\n",
    "            # Capture frame-by-frame\n",
    "            ret, frame = video.read()\n",
    "            if ret == True:\n",
    "                # Display the resulting frame\n",
    "                cv2.imshow('Frame',frame)\n",
    "\n",
    "                # Press Q on keyboard to  exit\n",
    "                if cv2.waitKey(1) & 0xFF == ord('q'):\n",
    "                    break\n",
    "            # Break the loop\n",
    "            else: \n",
    "                break"
   ]
  },
  {
   "cell_type": "code",
   "execution_count": 6,
   "metadata": {},
   "outputs": [],
   "source": [
    "# Main handler function \n",
    "def analyzeCsvFile(threshold, csvFile):\n",
    "    # check file extension\n",
    "    if not checkExtension('.csv', csvFile):\n",
    "        return None\n",
    "    else:\n",
    "        # Prints if was given a .csv file \n",
    "        print('Pulling data from %s' % csvFile)\n",
    "    \n",
    "    # Return calculations made in the function call\n",
    "    return calculateMetrics(threshold, csvFile)\n"
   ]
  },
  {
   "cell_type": "code",
   "execution_count": 7,
   "metadata": {},
   "outputs": [
    {
     "name": "stdout",
     "output_type": "stream",
     "text": [
      "Pulling data from C:\\Users\\Behavior Scoring\\Desktop\\DLC Project Utils\\csv files\\similar_motionDeepCut_resnet50_Normal_MotionAug14shuffle1_110000.csv\n",
      "None\n"
     ]
    }
   ],
   "source": [
    "def main():\n",
    "    movement_threshold = 0.5\n",
    "    covariation_threshold = 20\n",
    "\n",
    "    # Holds the user inputed file paths\n",
    "    behavior_csv = r'C:\\Users\\Behavior Scoring\\Desktop\\DLC Project Utils\\csv files\\similar_motionDeepCut_resnet50_Normal_MotionAug14shuffle1_110000.csv'\n",
    "\n",
    "    # Holds the correlated video to the csv file\n",
    "    behavior_video = r'C:\\Users\\Behavior Scoring\\Desktop\\DLC Project Utils\\labled videos\\DLC_Mating_Vod.mp4'\n",
    "    \n",
    "    # Create a VideoCapture object and read from input file\n",
    "    # If the input is the camera, pass 0 instead of the video file name\n",
    "    cap = cv2.VideoCapture(behavior_video)\n",
    "\n",
    "    # Check if camera opened successfully\n",
    "    if (cap.isOpened()== False): \n",
    "      print(\"Error opening video stream or file\")\n",
    "    \n",
    "    # Pass files as arguments to the function; Return data structure with analysis metrics\n",
    "    analyzed_csv_data = analyzeCsvFile(movement_threshold, behavior_csv)\n",
    "\n",
    "    # Show glimpses for windows under threshold\n",
    "    windowedPreview(covariation_threshold, analyzed_csv_data, cap)\n",
    "    \n",
    "    # Added a human aspect to the video\n",
    "    print(confirmBehavior())\n",
    "    \n",
    "    # When everything done, release the video capture object\n",
    "    cap.release()\n",
    " \n",
    "    # Closes all the frames\n",
    "    cv2.destroyAllWindows()\n",
    "\n",
    "if __name__ == \"__main__\":\n",
    "    main()"
   ]
  },
  {
   "cell_type": "code",
   "execution_count": null,
   "metadata": {},
   "outputs": [],
   "source": []
  }
 ],
 "metadata": {
  "kernelspec": {
   "display_name": "Python 3",
   "language": "python",
   "name": "python3"
  },
  "language_info": {
   "codemirror_mode": {
    "name": "ipython",
    "version": 3
   },
   "file_extension": ".py",
   "mimetype": "text/x-python",
   "name": "python",
   "nbconvert_exporter": "python",
   "pygments_lexer": "ipython3",
   "version": "3.7.3"
  }
 },
 "nbformat": 4,
 "nbformat_minor": 2
}
