{
 "cells": [
  {
   "cell_type": "code",
   "execution_count": 1,
   "metadata": {},
   "outputs": [],
   "source": [
    "# ~ IMPORTS ~\n",
    "import qrcode\n",
    "from PIL import Image\n",
    "from PIL import ImageDraw\n",
    "from PIL import ImageFont\n",
    "from pyzbar.pyzbar import decode, ZBarSymbol\n",
    "import cv2\n",
    "import os"
   ]
  },
  {
   "cell_type": "code",
   "execution_count": 2,
   "metadata": {},
   "outputs": [],
   "source": [
    "# ~ PARAMETERS ~\n",
    "\n",
    "# Metadata for QR code\n",
    "name = \"Chase Dudas\"\n",
    "voleNum = \"00\"\n",
    "date = \"2/7/2020\"\n",
    "exp = \"Door Shaping\"\n",
    "dayNum = 2\n",
    "\n",
    "# Change based on where the QR will be placed.\n",
    "location = \"Top Left\"\n",
    "\n",
    "# Directory used to save the QR code\n",
    "fileDir = r'D:\\Donaldson Lab\\QRCodes'\n",
    "\n",
    "# Name of the individual QR code\n",
    "fileName = r'\\test_qr2'\n",
    "\n",
    "# Image type (ex. png, bmp, jpeg)\n",
    "extension = \"png\"\n",
    "\n",
    "# ~ DON'T CHANGE ~\n",
    "# Creates a full filepath using the direcotry and filename\n",
    "fileLocation = fileDir + fileName + '.' + extension"
   ]
  },
  {
   "cell_type": "code",
   "execution_count": 3,
   "metadata": {},
   "outputs": [],
   "source": [
    "# ~ QR GENERATOR ~ \n",
    "\n",
    "# Create qr code instance\n",
    "qrGenerator = qrcode.QRCode(\n",
    "    version = 1,\n",
    "    error_correction = qrcode.constants.ERROR_CORRECT_H,\n",
    "    box_size = 10,\n",
    "    border = 4,\n",
    ")\n",
    "\n",
    "# The data that you want to store\n",
    "# NOTE: Does not work with ':'\n",
    "data = \"user - %s, vole - %s, date - %s, experiment - %s, day - %d\" % (name, voleNum, date, exp, dayNum)\n",
    "\n",
    "# Add data\n",
    "qrGenerator.add_data(data)\n",
    "qrGenerator.make(fit=True)\n",
    "\n",
    "# Create an image from the QR Code instance\n",
    "img = qrGenerator.make_image()\n",
    "\n",
    "# Get the width and height of the created QR\n",
    "width, height = img.size\n",
    "\n",
    "# Declare fonts\n",
    "topTextFont = ImageFont.truetype(\"arial.ttf\", 35)\n",
    "bottomTextFont = ImageFont.truetype(\"arial.ttf\", 16)\n",
    "\n",
    "# Draw text onto QR code border\n",
    "draw = ImageDraw.Draw(img)\n",
    "draw.text((0, 0), \"%s\" % location, font=topTextFont)\n",
    "draw.text((0,height - 30), data, font=bottomTextFont)\n",
    "\n",
    "# Create directory if it doesn't exist\n",
    "try:\n",
    "    os.mkdir(fileDir)\n",
    "except:\n",
    "    pass\n",
    "\n",
    "# Save it to desired filepath, change the extension as needed:\n",
    "img.save(fileLocation)"
   ]
  },
  {
   "cell_type": "code",
   "execution_count": 4,
   "metadata": {},
   "outputs": [
    {
     "name": "stdout",
     "output_type": "stream",
     "text": [
      "b'user - Chase Dudas, vole - 00, date - 2/7/2020, experiment - Door Shaping, day - 2'\n"
     ]
    }
   ],
   "source": [
    "# ~ QR READER ~ \n",
    "decoded = decode(cv2.imread(fileLocation), symbols=[ZBarSymbol.QRCODE])\n",
    "qr_dic = {}\n",
    "for qr in decoded:\n",
    "    x = qr[2][0] # The Left position of the QR code\n",
    "    qr_dic[x] = qr[0] # The Data stored in the QR code\n",
    "\n",
    "for qr in sorted(qr_dic.keys()):\n",
    "    print(qr_dic[qr])"
   ]
  },
  {
   "cell_type": "code",
   "execution_count": null,
   "metadata": {},
   "outputs": [],
   "source": []
  }
 ],
 "metadata": {
  "kernelspec": {
   "display_name": "Python 3",
   "language": "python",
   "name": "python3"
  },
  "language_info": {
   "codemirror_mode": {
    "name": "ipython",
    "version": 3
   },
   "file_extension": ".py",
   "mimetype": "text/x-python",
   "name": "python",
   "nbconvert_exporter": "python",
   "pygments_lexer": "ipython3",
   "version": "3.7.3"
  }
 },
 "nbformat": 4,
 "nbformat_minor": 2
}
